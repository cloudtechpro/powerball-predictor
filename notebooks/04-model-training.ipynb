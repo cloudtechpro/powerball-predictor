{
  "nbformat": 4,
  "nbformat_minor": 0,
  "metadata": {
    "colab": {
      "provenance": []
    },
    "kernelspec": {
      "name": "python3",
      "display_name": "Python 3"
    },
    "language_info": {
      "name": "python"
    }
  },
  "cells": [
    {
      "cell_type": "code",
      "execution_count": null,
      "metadata": {
        "id": "xxFA3x74W-63"
      },
      "outputs": [],
      "source": [
        "# =========================== Step 1: Load Feature Engineered Dataset ===========================\n",
        "\n",
        "import pandas as pd\n",
        "import numpy as np\n",
        "import xgboost as xgb\n",
        "import joblib\n",
        "from sklearn.model_selection import train_test_split\n",
        "from sklearn.metrics import mean_absolute_error, mean_squared_error\n",
        "\n",
        "# Load the dataset after hyperparameter tuning\n",
        "file_path = \"/content/drive/MyDrive/processed_data_feature_engineered.csv\"\n",
        "df = pd.read_csv(file_path)\n",
        "\n",
        "# Prepare feature set and labels\n",
        "X = df.drop(columns=['white_ball_1', 'white_ball_2', 'white_ball_3', 'white_ball_4', 'white_ball_5', 'pb'])\n",
        "y_white_balls = df[['white_ball_1', 'white_ball_2', 'white_ball_3', 'white_ball_4', 'white_ball_5']]\n",
        "y_pb = df['pb']\n",
        "\n",
        "# Split dataset into training and testing sets\n",
        "X_train, X_test, y_train_white, y_test_white = train_test_split(X, y_white_balls, test_size=0.2, random_state=42)\n",
        "X_train, X_test, y_train_pb, y_test_pb = train_test_split(X, y_pb, test_size=0.2, random_state=42)\n",
        "\n",
        "# =========================== Step 2: Train Final XGBoost Models ===========================\n",
        "\n",
        "# Load best hyperparameters from the previous step\n",
        "best_params_white = [\n",
        "    {'n_estimators': 300, 'max_depth': 5, 'learning_rate': 0.05, 'subsample': 1.0, 'colsample_bytree': 1.0, 'reg_lambda': 1.5, 'reg_alpha': 0.1},\n",
        "    {'n_estimators': 500, 'max_depth': 7, 'learning_rate': 0.05, 'subsample': 0.8, 'colsample_bytree': 1.0, 'reg_lambda': 1, 'reg_alpha': 0},\n",
        "    {'n_estimators': 300, 'max_depth': 5, 'learning_rate': 0.1, 'subsample': 1.0, 'colsample_bytree': 0.8, 'reg_lambda': 1.5, 'reg_alpha': 0.1},\n",
        "    {'n_estimators': 500, 'max_depth': 7, 'learning_rate': 0.05, 'subsample': 1.0, 'colsample_bytree': 1.0, 'reg_lambda': 1, 'reg_alpha': 0.1},\n",
        "    {'n_estimators': 300, 'max_depth': 5, 'learning_rate': 0.1, 'subsample': 0.8, 'colsample_bytree': 1.0, 'reg_lambda': 2, 'reg_alpha': 0.1}\n",
        "]\n",
        "\n",
        "best_params_pb = {'n_estimators': 500, 'max_depth': 7, 'learning_rate': 0.05, 'subsample': 1.0, 'colsample_bytree': 1.0, 'reg_lambda': 1, 'reg_alpha': 0.1}\n",
        "\n",
        "# Train final models for each white ball\n",
        "white_models = []\n",
        "for i in range(5):\n",
        "    print(f\"Training final model for White Ball {i+1}...\")\n",
        "    model = xgb.XGBRegressor(objective='reg:squarederror', random_state=42, **best_params_white[i])\n",
        "    model.fit(X_train, y_train_white.iloc[:, i])\n",
        "    white_models.append(model)\n",
        "\n",
        "# Train final model for Powerball\n",
        "print(\"Training final model for Powerball...\")\n",
        "pb_model = xgb.XGBRegressor(objective='reg:squarederror', random_state=42, **best_params_pb)\n",
        "pb_model.fit(X_train, y_train_pb)\n",
        "\n",
        "# =========================== Step 3: Save Trained Models ===========================\n",
        "from google.colab import drive\n",
        "\n",
        "# Define Google Drive path\n",
        "drive_path = \"/content/drive/MyDrive/Powerball_Models/\"\n",
        "\n",
        "# Ensure the directory exists\n",
        "import os\n",
        "os.makedirs(drive_path, exist_ok=True)\n",
        "\n",
        "#for i, model in enumerate(white_models):\n",
        "#    joblib.dump(model, f\"/mnt/data/model_white_ball_{i+1}.pkl\")\n",
        "#\n",
        "#joblib.dump(pb_model, \"/mnt/data/model_powerball.pkl\")\n",
        "\n",
        "# Save each white ball model\n",
        "for i, model in enumerate(white_models):\n",
        "    model_path = f\"{drive_path}model_white_ball_{i+1}.pkl\"\n",
        "    joblib.dump(model, model_path)\n",
        "    print(f\"Saved: {model_path}\")\n",
        "\n",
        "# Save Powerball model\n",
        "pb_model_path = f\"{drive_path}model_powerball.pkl\"\n",
        "joblib.dump(pb_model, pb_model_path)\n",
        "print(f\"Saved: {pb_model_path}\")\n",
        "\n",
        "# =========================== 🎯 Step 4: Evaluate Final Model ===========================\n",
        "\n",
        "# Predict and evaluate white balls\n",
        "y_pred_white = np.column_stack([model.predict(X_test) for model in white_models])\n",
        "y_pred_pb = pb_model.predict(X_test)\n",
        "\n",
        "# Round predictions to valid number ranges\n",
        "y_pred_white = np.clip(np.round(y_pred_white), 1, 69).astype(int)\n",
        "y_pred_pb = np.clip(np.round(y_pred_pb), 1, 26).astype(int)\n",
        "\n",
        "# Calculate evaluation metrics\n",
        "mae_white = mean_absolute_error(y_test_white, y_pred_white)\n",
        "rmse_white = np.sqrt(mean_squared_error(y_test_white, y_pred_white))\n",
        "mae_pb = mean_absolute_error(y_test_pb, y_pred_pb)\n",
        "rmse_pb = np.sqrt(mean_squared_error(y_test_pb, y_pred_pb))\n",
        "\n",
        "# Display results\n",
        "final_model_results = {\n",
        "    \"White Balls MAE\": mae_white,\n",
        "    \"White Balls RMSE\": rmse_white,\n",
        "    \"Powerball MAE\": mae_pb,\n",
        "    \"Powerball RMSE\": rmse_pb\n",
        "}\n",
        "\n",
        "final_model_results\n"
      ]
    },
    {
      "cell_type": "code",
      "source": [
        "from google.colab import drive\n",
        "drive.mount('/content/drive')"
      ],
      "metadata": {
        "id": "0GuqlU4rXBMO",
        "outputId": "3c9cae2b-4a16-42a3-8c6d-baf6bd756aeb",
        "colab": {
          "base_uri": "https://localhost:8080/"
        }
      },
      "execution_count": 1,
      "outputs": [
        {
          "output_type": "stream",
          "name": "stdout",
          "text": [
            "Mounted at /content/drive\n"
          ]
        }
      ]
    }
  ]
}