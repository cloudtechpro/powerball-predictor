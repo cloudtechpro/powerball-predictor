{
  "nbformat": 4,
  "nbformat_minor": 0,
  "metadata": {
    "colab": {
      "provenance": []
    },
    "kernelspec": {
      "name": "python3",
      "display_name": "Python 3"
    },
    "language_info": {
      "name": "python"
    }
  },
  "cells": [
    {
      "cell_type": "code",
      "execution_count": 3,
      "metadata": {
        "colab": {
          "base_uri": "https://localhost:8080/"
        },
        "id": "XHAaqh49Vdnc",
        "outputId": "3a9dd086-31f1-45ce-9e98-a7e4bab50490"
      },
      "outputs": [
        {
          "output_type": "stream",
          "name": "stdout",
          "text": [
            "Drive already mounted at /content/drive; to attempt to forcibly remount, call drive.mount(\"/content/drive\", force_remount=True).\n",
            "File saved to Google Drive: /content/drive/MyDrive/processed_data_feature_engineered.csv\n"
          ]
        }
      ],
      "source": [
        "# =========================== Step 1: Load Dataset ===========================\n",
        "\n",
        "import pandas as pd\n",
        "import numpy as np\n",
        "from google.colab import drive\n",
        "\n",
        "# Load the Powerball dataset\n",
        "file_path = \"/content/drive/MyDrive/powerball_powerball.csv\"\n",
        "df = pd.read_csv(file_path)\n",
        "\n",
        "# Convert date columns to datetime format if available\n",
        "if {'year', 'month', 'day'}.issubset(df.columns):\n",
        "    df['date'] = pd.to_datetime(df[['year', 'month', 'day']])\n",
        "else:\n",
        "    df['date'] = pd.to_datetime(df['month'], errors='coerce')\n",
        "\n",
        "# =========================== Step 2: Feature Engineering ===========================\n",
        "\n",
        "# Time-Weighted Frequencies\n",
        "decay_factor = 0.95\n",
        "\n",
        "def compute_time_weighted_freq(column, df, decay_factor):\n",
        "    time_weighted_freq = {}\n",
        "    for idx, row in df.iterrows():\n",
        "        draw_number = row[column]\n",
        "        weight = decay_factor ** (len(df) - idx)\n",
        "        time_weighted_freq[draw_number] = time_weighted_freq.get(draw_number, 0) + weight\n",
        "    return time_weighted_freq\n",
        "\n",
        "time_weighted_white_ball_freq = {i: compute_time_weighted_freq(f'white_ball_{i}', df, decay_factor) for i in range(1, 6)}\n",
        "time_weighted_powerball_freq = compute_time_weighted_freq('pb', df, decay_factor)\n",
        "\n",
        "for i in range(1, 6):\n",
        "    df[f'wb_{i}_time_weighted_freq'] = df[f'white_ball_{i}'].map(time_weighted_white_ball_freq[i])\n",
        "df['pb_time_weighted_freq'] = df['pb'].map(time_weighted_powerball_freq)\n",
        "\n",
        "# Rolling Statistics\n",
        "window_sizes = [25, 50, 100]\n",
        "for window in window_sizes:\n",
        "    for i in range(1, 6):\n",
        "        df[f'wb_{i}_rolling_mean_{window}'] = df[f'white_ball_{i}'].rolling(window=window, min_periods=1).mean()\n",
        "    df[f'pb_rolling_mean_{window}'] = df['pb'].rolling(window=window, min_periods=1).mean()\n",
        "\n",
        "# Recency Bias (Hot/Cold Numbers - Last N Draws)\n",
        "recent_window = 10  # Last 10 draws\n",
        "for i in range(1, 6):\n",
        "    df[f'wb_{i}_recent'] = df[f'white_ball_{i}'].apply(\n",
        "        lambda x: 1 if x in df.tail(recent_window)[['white_ball_1', 'white_ball_2', 'white_ball_3', 'white_ball_4', 'white_ball_5']].values else 0)\n",
        "df['pb_recent'] = df['pb'].apply(lambda x: 1 if x in df.tail(recent_window)['pb'].values else 0)\n",
        "\n",
        "# Most Common White Ball Pairs\n",
        "from itertools import combinations\n",
        "from collections import Counter\n",
        "\n",
        "pair_counts = Counter()\n",
        "for _, row in df.iterrows():\n",
        "    pairs = list(combinations(row[['white_ball_1', 'white_ball_2', 'white_ball_3', 'white_ball_4', 'white_ball_5']], 2))\n",
        "    pair_counts.update(pairs)\n",
        "\n",
        "most_common_pairs = {pair: count for pair, count in pair_counts.most_common(15)}\n",
        "for i in range(1, 5):\n",
        "    for j in range(i+1, 6):\n",
        "        col_name = f'wb_pair_{i}_{j}_freq'\n",
        "        df[col_name] = df.apply(lambda row: most_common_pairs.get((row[f'white_ball_{i}'], row[f'white_ball_{j}']), 0), axis=1)\n",
        "\n",
        "# Consecutive Draw Matching\n",
        "def check_consecutive(row, previous_row):\n",
        "    return any(num in previous_row for num in row[['white_ball_1', 'white_ball_2', 'white_ball_3', 'white_ball_4', 'white_ball_5']])\n",
        "\n",
        "df['prev_draw'] = df[['white_ball_1', 'white_ball_2', 'white_ball_3', 'white_ball_4', 'white_ball_5']].shift(1).apply(tuple, axis=1)\n",
        "df['consecutive_match'] = df.apply(lambda row: check_consecutive(row, row['prev_draw']) if pd.notna(row['prev_draw']) else False, axis=1)\n",
        "\n",
        "# Powerball Repeats in Consecutive Draws\n",
        "df['prev_powerball'] = df['pb'].shift(1)\n",
        "df['powerball_repeat'] = df['pb'] == df['prev_powerball']\n",
        "\n",
        "# =========================== 📂 Step 3: Save Processed Data ===========================\n",
        "\n",
        "processed_file_path = \"/mnt/data/processed_data_feature_engineered.csv\"\n",
        "df.drop(columns=['date', 'day', 'month', 'year', 'prev_draw', 'prev_powerball'], errors='ignore', inplace=True)\n",
        "\n",
        "# Provide file for user to download\n",
        "# Mount Google Drive\n",
        "drive.mount('/content/drive')\n",
        "\n",
        "# Save the file to your Google Drive\n",
        "df.to_csv(\"/content/drive/MyDrive/processed_data_feature_engineered.csv\", index=False)\n",
        "\n",
        "print(\"File saved to Google Drive: /content/drive/MyDrive/processed_data_feature_engineered.csv\")"
      ]
    },
    {
      "cell_type": "code",
      "source": [],
      "metadata": {
        "id": "ZD7RChltV1y-"
      },
      "execution_count": null,
      "outputs": []
    }
  ]
}