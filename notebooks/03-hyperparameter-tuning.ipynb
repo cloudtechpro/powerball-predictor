{
  "nbformat": 4,
  "nbformat_minor": 0,
  "metadata": {
    "colab": {
      "provenance": []
    },
    "kernelspec": {
      "name": "python3",
      "display_name": "Python 3"
    },
    "language_info": {
      "name": "python"
    }
  },
  "cells": [
    {
      "cell_type": "code",
      "execution_count": null,
      "metadata": {
        "colab": {
          "base_uri": "https://localhost:8080/"
        },
        "id": "RpNJwhpkWDcl",
        "outputId": "7c27a167-0a40-4bb5-ada4-c6af6c87566f"
      },
      "outputs": [
        {
          "output_type": "stream",
          "name": "stdout",
          "text": [
            "Tuning model for White Ball 1...\n",
            "Fitting 3 folds for each of 972 candidates, totalling 2916 fits\n"
          ]
        }
      ],
      "source": [
        "# =========================== Step 1: Load Processed Dataset ===========================\n",
        "\n",
        "import pandas as pd\n",
        "import numpy as np\n",
        "import xgboost as xgb\n",
        "from sklearn.model_selection import train_test_split, GridSearchCV\n",
        "from sklearn.metrics import mean_absolute_error, mean_squared_error\n",
        "\n",
        "# Load the feature-engineered dataset\n",
        "file_path = \"/content/drive/MyDrive/processed_data_feature_engineered.csv\"\n",
        "df = pd.read_csv(file_path)\n",
        "\n",
        "# Prepare feature set and labels\n",
        "X = df.drop(columns=['white_ball_1', 'white_ball_2', 'white_ball_3', 'white_ball_4', 'white_ball_5', 'pb'])\n",
        "y_white_balls = df[['white_ball_1', 'white_ball_2', 'white_ball_3', 'white_ball_4', 'white_ball_5']]\n",
        "y_pb = df['pb']\n",
        "\n",
        "# Split dataset into training and testing sets\n",
        "X_train, X_test, y_train_white, y_test_white = train_test_split(X, y_white_balls, test_size=0.2, random_state=42)\n",
        "X_train, X_test, y_train_pb, y_test_pb = train_test_split(X, y_pb, test_size=0.2, random_state=42)\n",
        "\n",
        "# =========================== Step 2: Hyperparameter Tuning with GridSearchCV ===========================\n",
        "\n",
        "# Define parameter grid for XGBoost\n",
        "param_grid = {\n",
        "    'n_estimators': [100, 300, 500],\n",
        "    'max_depth': [3, 5, 7],\n",
        "    'learning_rate': [0.01, 0.05, 0.1],\n",
        "    'subsample': [0.8, 1.0],\n",
        "    'colsample_bytree': [0.8, 1.0],\n",
        "    'reg_lambda': [1, 1.5, 2],\n",
        "    'reg_alpha': [0, 0.1, 0.5]\n",
        "}\n",
        "\n",
        "# Function to tune model for each white ball\n",
        "def tune_xgboost(X_train, y_train):\n",
        "    model = xgb.XGBRegressor(objective='reg:squarederror', random_state=42)\n",
        "    grid_search = GridSearchCV(model, param_grid, cv=3, scoring='neg_mean_absolute_error', verbose=1, n_jobs=-1)\n",
        "    grid_search.fit(X_train, y_train)\n",
        "    return grid_search.best_estimator_, grid_search.best_params_\n",
        "\n",
        "# Tune models for each white ball\n",
        "best_models_white = []\n",
        "best_params_white = []\n",
        "\n",
        "for i in range(5):\n",
        "    print(f\"Tuning model for White Ball {i+1}...\")\n",
        "    best_model, best_params = tune_xgboost(X_train, y_train_white.iloc[:, i])\n",
        "    best_models_white.append(best_model)\n",
        "    best_params_white.append(best_params)\n",
        "\n",
        "# Tune model for Powerball\n",
        "print(\"Tuning model for Powerball...\")\n",
        "best_model_pb, best_params_pb = tune_xgboost(X_train, y_train_pb)\n",
        "\n",
        "# =========================== Step 3: Evaluate Tuned Models ===========================\n",
        "\n",
        "# Predict and evaluate white balls\n",
        "y_pred_white = np.column_stack([model.predict(X_test) for model in best_models_white])\n",
        "y_pred_pb = best_model_pb.predict(X_test)\n",
        "\n",
        "# Round predictions to valid number ranges\n",
        "y_pred_white = np.clip(np.round(y_pred_white), 1, 69).astype(int)\n",
        "y_pred_pb = np.clip(np.round(y_pred_pb), 1, 26).astype(int)\n",
        "\n",
        "# Calculate evaluation metrics\n",
        "mae_white = mean_absolute_error(y_test_white, y_pred_white)\n",
        "rmse_white = np.sqrt(mean_squared_error(y_test_white, y_pred_white))\n",
        "mae_pb = mean_absolute_error(y_test_pb, y_pred_pb)\n",
        "rmse_pb = np.sqrt(mean_squared_error(y_test_pb, y_pred_pb))\n",
        "\n",
        "# Display results\n",
        "tuning_results = {\n",
        "    \"White Balls MAE\": mae_white,\n",
        "    \"White Balls RMSE\": rmse_white,\n",
        "    \"Powerball MAE\": mae_pb,\n",
        "    \"Powerball RMSE\": rmse_pb,\n",
        "    \"Best Hyperparameters White Balls\": best_params_white,\n",
        "    \"Best Hyperparameters Powerball\": best_params_pb\n",
        "}\n",
        "\n",
        "print(tuning_results)"
      ]
    },
    {
      "cell_type": "code",
      "source": [
        "from google.colab import drive\n",
        "drive.mount('/content/drive')"
      ],
      "metadata": {
        "colab": {
          "base_uri": "https://localhost:8080/"
        },
        "id": "EjNvhVpCWPcu",
        "outputId": "54be00ed-ffe2-46c9-b324-cfe24b255cac"
      },
      "execution_count": 1,
      "outputs": [
        {
          "output_type": "stream",
          "name": "stdout",
          "text": [
            "Mounted at /content/drive\n"
          ]
        }
      ]
    }
  ]
}